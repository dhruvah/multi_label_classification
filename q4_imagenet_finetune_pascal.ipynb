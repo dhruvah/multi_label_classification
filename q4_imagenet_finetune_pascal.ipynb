{
 "cells": [
  {
   "cell_type": "markdown",
   "metadata": {},
   "source": [
    "# Q4 Shoulders of Giants (15 points)\n",
    "As we have already seen, deep networks can sometimes be hard to optimize. Often times they heavily overfit on small training sets. Many approaches have been proposed to counter this, eg, [Krahenbuhl et al. (ICLR’16)](http://arxiv.org/pdf/1511.06856.pdf), self-supervised learning, etc. However, the most effective approach remains pre-training the network on large, well-labeled supervised datasets such as ImageNet. \n",
    "\n",
    "While training on the full ImageNet data is beyond the scope of this assignment, people have already trained many popular/standard models and released them online. In this task, we will initialize a ResNet-18 model with pre-trained ImageNet weights (from `torchvision`), and finetune the network for PASCAL classification.\n",
    "\n",
    "## 4.1 Load Pre-trained Model (7 pts)\n",
    "Load the pre-trained weights up to the second last layer, and initialize last layer from scratch (the very last layer that outputs the classes).\n",
    "\n",
    "The model loading mechanism is based on names of the weights. It is easy to load pretrained models from `torchvision.models`, even when your model uses different names for weights. Please briefly explain how to load the weights correctly if the names do not match ([hint](https://discuss.pytorch.org/t/loading-weights-from-pretrained-model-with-different-module-names/11841)).\n",
    "\n",
    "**YOUR ANSWER HERE**"
   ]
  },
  {
   "cell_type": "code",
   "execution_count": 8,
   "metadata": {},
   "outputs": [],
   "source": [
    "import torch\n",
    "import torch.nn as nn\n",
    "import torch.nn.functional as F\n",
    "from torchvision import models\n",
    "import matplotlib.pyplot as plt\n",
    "%matplotlib inline\n",
    "\n",
    "import trainer\n",
    "from utils import ARGS\n",
    "from simple_cnn import SimpleCNN\n",
    "from voc_dataset import VOCDataset\n",
    "\n",
    "\n",
    "# Pre-trained weights up to second-to-last layer\n",
    "# final layers should be initialized from scratch!\n",
    "class PretrainedResNet(nn.Module):\n",
    "    def __init__(self):\n",
    "        super().__init__()\n",
    "        self.model = models.resnet18(pretrained=True)\n",
    "        self.model = nn.Sequential(*list(self.model.children())[:-1])\n",
    "        self.flat_dim = 512\n",
    "        self.fc = nn.Linear(512, 20) #NOT SURE ABOUT THIS (512, 20)\n",
    "    \n",
    "    def forward(self, x):\n",
    "        N = x.size(0)\n",
    "        x = self.model(x)\n",
    "        flat_x = x.view(N, self.flat_dim)\n",
    "        out = self.fc(flat_x)\n",
    "        return out"
   ]
  },
  {
   "cell_type": "markdown",
   "metadata": {},
   "source": [
    "Train the model with a similar hyperparameter setup as in the scratch case. No need to freeze the loaded weights. Show the learning curves (training loss, testing MAP) for 10 epochs. Please evaluate your model to calculate the MAP on the testing dataset every 100 iterations. Also feel free to tune the hyperparameters to improve performance.\n",
    "\n",
    "**REMEMBER TO SAVE MODEL AT END OF TRAINING**"
   ]
  },
  {
   "cell_type": "code",
   "execution_count": null,
   "metadata": {},
   "outputs": [
    {
     "name": "stdout",
     "output_type": "stream",
     "text": [
      "Train Epoch: 0 [0 (0%)]\tLoss: 0.814433\n",
      "Validation MAP =  0.07555371783464107\n",
      "Train Epoch: 1 [250 (59%)]\tLoss: 0.081026\n",
      "Validation MAP =  0.803977872501467\n",
      "Train Epoch: 3 [500 (18%)]\tLoss: 0.055036\n",
      "Validation MAP =  0.8221376870145249\n",
      "Train Epoch: 4 [750 (78%)]\tLoss: 0.037976\n",
      "Validation MAP =  0.8257848303149841\n",
      "Train Epoch: 6 [1000 (37%)]\tLoss: 0.029980\n",
      "Validation MAP =  0.8255479901556283\n",
      "Train Epoch: 7 [1250 (96%)]\tLoss: 0.024282\n",
      "Validation MAP =  0.8258925095347417\n",
      "Train Epoch: 9 [1500 (55%)]\tLoss: 0.030244\n",
      "Validation MAP =  0.8255822846764772\n",
      "Train Epoch: 11 [1750 (15%)]\tLoss: 0.024800\n",
      "Validation MAP =  0.8251914919560971\n"
     ]
    }
   ],
   "source": [
    "args = ARGS(epochs=50, batch_size=32, lr=0.0001, log_every = 250, val_every = 250, use_cuda = True)\n",
    "model = PretrainedResNet()\n",
    "optimizer = torch.optim.Adam(model.parameters(), lr=args.lr)\n",
    "scheduler = torch.optim.lr_scheduler.StepLR(optimizer, step_size=args.step_size, gamma=args.gamma)\n",
    "test_ap, test_map = trainer.train(args, model, optimizer, scheduler, 'ResNet_Pretrained_True')\n",
    "print('test map:', test_map)"
   ]
  },
  {
   "cell_type": "markdown",
   "metadata": {},
   "source": [
    "**YOUR TENSORBOARD SCREENSHOTS HERE**"
   ]
  },
  {
   "cell_type": "code",
   "execution_count": null,
   "metadata": {},
   "outputs": [],
   "source": []
  }
 ],
 "metadata": {
  "kernelspec": {
   "display_name": "Python 3",
   "language": "python",
   "name": "python3"
  },
  "language_info": {
   "codemirror_mode": {
    "name": "ipython",
    "version": 3
   },
   "file_extension": ".py",
   "mimetype": "text/x-python",
   "name": "python",
   "nbconvert_exporter": "python",
   "pygments_lexer": "ipython3",
   "version": "3.8.5"
  }
 },
 "nbformat": 4,
 "nbformat_minor": 4
}
